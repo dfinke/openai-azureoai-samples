{
 "cells": [
  {
   "attachments": {},
   "cell_type": "markdown",
   "metadata": {},
   "source": [
    "# Explain code\n",
    "\n",
    "Explain a complicated piece of code.\n",
    "\n",
    "## Settings\n",
    "\n",
    "| Setting | Value |\n",
    "| --- | --- |\n",
    "| Model | text-davinci-003 |\n",
    "| Max tokens | 256 |\n",
    "| Temperature | 0 | \n",
    "| Top p | 1 | \n",
    "| Frequency penalty | 0.0 |\n",
    "| Presence penalty | 0.0 |\n",
    "| Stop sequence | |\n",
    "\n",
    "## Prompt\n",
    "\n",
    "```text\n",
    "class MathUtils {\n",
    "    static [double] CosineSimilarity([double[]]$vectorA, [double[]]$vectorB) {\n",
    "        $dotProduct = 0.0\n",
    "        $magnitudeA = 0.0\n",
    "        $magnitudeB = 0.0\n",
    "        $cosineSimilarity = 0.0\n",
    "\n",
    "        for ($i = 0; $i -lt $vectorA.Length; $i++) {\n",
    "            $dotProduct += $vectorA[$i] * $vectorB[$i]\n",
    "            $magnitudeA += [Math]::Pow($vectorA[$i], 2)\n",
    "            $magnitudeB += [Math]::Pow($vectorB[$i], 2)\n",
    "        }\n",
    "\n",
    "        $magnitudeA = [Math]::Sqrt($magnitudeA)\n",
    "        $magnitudeB = [Math]::Sqrt($magnitudeB)\n",
    "\n",
    "        if ($magnitudeA -ne 0 -and $magnitudeB -ne 0) {\n",
    "            $cosineSimilarity = $dotProduct / ($magnitudeA * $magnitudeB)\n",
    "        }\n",
    "        else {\n",
    "            return 0.0\n",
    "        }\n",
    "\n",
    "        return $cosineSimilarity\n",
    "    }\n",
    "}\n",
    "\n",
    "Here's what the above class is doing, explained in a concise way:\n",
    "\n",
    "1. \n",
    "```"
   ]
  },
  {
   "attachments": {},
   "cell_type": "markdown",
   "metadata": {},
   "source": [
    "## Install PowerShellAI"
   ]
  },
  {
   "cell_type": "code",
   "execution_count": 1,
   "metadata": {
    "dotnet_interactive": {
     "language": "pwsh"
    },
    "polyglot_notebook": {
     "kernelName": "pwsh"
    }
   },
   "outputs": [
    {
     "name": "stdout",
     "output_type": "stream",
     "text": [
      "PowerShellAI is already installed\r\n"
     ]
    }
   ],
   "source": [
    "if(Get-Module -list PowerShellAI) {\n",
    "    \"PowerShellAI is already installed\"\n",
    "} \n",
    "else {\n",
    "    Install-Module -Name PowerShellAI -Scope AllUsers -Force\n",
    "}"
   ]
  },
  {
   "attachments": {},
   "cell_type": "markdown",
   "metadata": {},
   "source": [
    "## Define Prompt"
   ]
  },
  {
   "cell_type": "code",
   "execution_count": 2,
   "metadata": {
    "dotnet_interactive": {
     "language": "pwsh"
    },
    "polyglot_notebook": {
     "kernelName": "pwsh"
    }
   },
   "outputs": [],
   "source": [
    "$prompt = @'\n",
    "class MathUtils {\n",
    "    static [double] CosineSimilarity([double[]]$vectorA, [double[]]$vectorB) {\n",
    "        $dotProduct = 0.0\n",
    "        $magnitudeA = 0.0\n",
    "        $magnitudeB = 0.0\n",
    "        $cosineSimilarity = 0.0\n",
    "\n",
    "        for ($i = 0; $i -lt $vectorA.Length; $i++) {\n",
    "            $dotProduct += $vectorA[$i] * $vectorB[$i]\n",
    "            $magnitudeA += [Math]::Pow($vectorA[$i], 2)\n",
    "            $magnitudeB += [Math]::Pow($vectorB[$i], 2)\n",
    "        }\n",
    "\n",
    "        $magnitudeA = [Math]::Sqrt($magnitudeA)\n",
    "        $magnitudeB = [Math]::Sqrt($magnitudeB)\n",
    "\n",
    "        if ($magnitudeA -ne 0 -and $magnitudeB -ne 0) {\n",
    "            $cosineSimilarity = $dotProduct / ($magnitudeA * $magnitudeB)\n",
    "        }\n",
    "        else {\n",
    "            return 0.0\n",
    "        }\n",
    "\n",
    "        return $cosineSimilarity\n",
    "    }\n",
    "}\n",
    "\n",
    "Here's what the above class is doing, explained in a concise way:\n",
    "\n",
    "1. \n",
    "'@"
   ]
  },
  {
   "attachments": {},
   "cell_type": "markdown",
   "metadata": {},
   "source": [
    "## Ask GPT"
   ]
  },
  {
   "cell_type": "code",
   "execution_count": 4,
   "metadata": {
    "dotnet_interactive": {
     "language": "pwsh"
    },
    "polyglot_notebook": {
     "kernelName": "pwsh"
    }
   },
   "outputs": [
    {
     "name": "stdout",
     "output_type": "stream",
     "text": [
      " The MathUtils class contains a static method called CosineSimilarity which takes two double arrays as parameters.\r\n",
      "2.  The method calculates the dot product of the two arrays, the magnitude of each array, and the cosine similarity between them. \r\n",
      "3.  The dot product is calculated by looping through each array and multiplying the corresponding elements. \r\n",
      "4.  The magnitude of each array is calculated by taking the square root of the sum of the squares of each element in the array. \r\n",
      "5.  The cosine similarity is calculated by dividing the dot product by the product of the magnitudes of the two arrays. \r\n",
      "6.  If either of the magnitudes is 0, the method returns 0.0. Otherwise, it returns the cosine similarity.\r\n"
     ]
    }
   ],
   "source": [
    "gpt $prompt -max_tokens 512"
   ]
  }
 ],
 "metadata": {
  "kernelspec": {
   "display_name": ".NET (PowerShell)",
   "language": "PowerShell",
   "name": ".net-pwsh"
  },
  "language_info": {
   "name": "polyglot-notebook"
  },
  "polyglot_notebook": {
   "kernelInfo": {
    "defaultKernelName": "pwsh",
    "items": [
     {
      "aliases": [],
      "languageName": "pwsh",
      "name": "pwsh"
     }
    ]
   }
  }
 },
 "nbformat": 4,
 "nbformat_minor": 2
}
