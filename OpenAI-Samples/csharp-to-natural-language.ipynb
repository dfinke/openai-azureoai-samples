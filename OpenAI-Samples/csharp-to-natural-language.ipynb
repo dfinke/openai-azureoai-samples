{
 "cells": [
  {
   "attachments": {},
   "cell_type": "markdown",
   "metadata": {},
   "source": [
    "# Create interview questions\n",
    "\n",
    "Create interview questions.\n",
    "\n",
    "## Settings\n",
    "\n",
    "| Setting | Value |\n",
    "| --- | --- |\n",
    "| Model | text-davinci-003 |\n",
    "| Max tokens | 256 |\n",
    "| Temperature | 0 | \n",
    "| Top p | 1 | \n",
    "| Frequency penalty | 0.0 |\n",
    "| Presence penalty | 0.0 |\n",
    "| Stop sequence | |\n",
    "\n",
    "## Prompt\n",
    "\n",
    "```text\n",
    "# PowerShell\n",
    "function Remove-Prefix {\n",
    "    param(\n",
    "        [string]$str,\n",
    "        [string]$prefix = \" \"\n",
    "    )\n",
    "    if ($str.StartsWith($prefix)) {\n",
    "        return $str.Substring($prefix.Length)\n",
    "    }\n",
    "    return $str\n",
    "}\n",
    "\n",
    "# Explain what this code does\n",
    "```"
   ]
  },
  {
   "attachments": {},
   "cell_type": "markdown",
   "metadata": {},
   "source": [
    "## Install PowerShellAI"
   ]
  },
  {
   "cell_type": "code",
   "execution_count": 1,
   "metadata": {
    "dotnet_interactive": {
     "language": "pwsh"
    },
    "polyglot_notebook": {
     "kernelName": "pwsh"
    }
   },
   "outputs": [
    {
     "name": "stdout",
     "output_type": "stream",
     "text": [
      "PowerShellAI is already installed\r\n"
     ]
    }
   ],
   "source": [
    "if(Get-Module -list PowerShellAI) {\n",
    "    \"PowerShellAI is already installed\"\n",
    "} \n",
    "else {\n",
    "    Install-Module -Name PowerShellAI -Scope AllUsers -Force\n",
    "}"
   ]
  },
  {
   "attachments": {},
   "cell_type": "markdown",
   "metadata": {},
   "source": [
    "## Define Prompt"
   ]
  },
  {
   "cell_type": "code",
   "execution_count": 1,
   "metadata": {
    "dotnet_interactive": {
     "language": "pwsh"
    },
    "polyglot_notebook": {
     "kernelName": "pwsh"
    }
   },
   "outputs": [],
   "source": [
    "$prompt = @'\n",
    "# PowerShell\n",
    "function Remove-Prefix {\n",
    "    param(\n",
    "        [string]$str,\n",
    "        [string]$prefix = \" \"\n",
    "    )\n",
    "    if ($str.StartsWith($prefix)) {\n",
    "        return $str.Substring($prefix.Length)\n",
    "    }\n",
    "    return $str\n",
    "}\n",
    "\n",
    "# Explain what this code does\n",
    "'@"
   ]
  },
  {
   "attachments": {},
   "cell_type": "markdown",
   "metadata": {},
   "source": [
    "## Ask GPT"
   ]
  },
  {
   "cell_type": "code",
   "execution_count": 2,
   "metadata": {
    "dotnet_interactive": {
     "language": "pwsh"
    },
    "polyglot_notebook": {
     "kernelName": "pwsh"
    }
   },
   "outputs": [
    {
     "name": "stdout",
     "output_type": "stream",
     "text": [
      "\r\n",
      "\r\n",
      "This code is a function called Remove-Prefix that takes two parameters, a string and a prefix. The function checks if the string starts with the prefix and if it does, it returns the string with the prefix removed. If the string does not start with the prefix, the function returns the string as is.\r\n"
     ]
    }
   ],
   "source": [
    "gpt $prompt"
   ]
  }
 ],
 "metadata": {
  "kernelspec": {
   "display_name": ".NET (PowerShell)",
   "language": "PowerShell",
   "name": ".net-pwsh"
  },
  "language_info": {
   "name": "polyglot-notebook"
  },
  "polyglot_notebook": {
   "kernelInfo": {
    "defaultKernelName": "pwsh",
    "items": [
     {
      "aliases": [],
      "languageName": "pwsh",
      "name": "pwsh"
     }
    ]
   }
  }
 },
 "nbformat": 4,
 "nbformat_minor": 2
}
