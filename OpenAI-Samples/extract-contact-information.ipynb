{
 "cells": [
  {
   "attachments": {},
   "cell_type": "markdown",
   "metadata": {},
   "source": [
    "# Extract contact information\n",
    "\n",
    "Extract contact information from a block of text.\n",
    "\n",
    "## Settings\n",
    "\n",
    "| Setting | Value |\n",
    "| --- | --- |\n",
    "| Model | text-davinci-003 |\n",
    "| Max tokens | 256 |\n",
    "| Temperature | 0 | \n",
    "| Top p | 1 | \n",
    "| Frequency penalty | 0.0 |\n",
    "| Presence penalty | 0.0 |\n",
    "| Stop sequence | |\n",
    "\n",
    "## Prompt\n",
    "\n",
    "```text\n",
    "Extract the name and mailing address from this email:\n",
    "\n",
    "Dear Kelly,\n",
    "\n",
    "It was great to talk to you at the seminar. I thought Jane's talk was quite good.\n",
    "\n",
    "Thank you for the book. Here's my address 2111 Ash Lane, Crestview CA 92002\n",
    "\n",
    "Best,\n",
    "\n",
    "Maya\n",
    "\n",
    "Name:\n",
    "```"
   ]
  },
  {
   "attachments": {},
   "cell_type": "markdown",
   "metadata": {},
   "source": [
    "## Install PowerShellAI"
   ]
  },
  {
   "cell_type": "code",
   "execution_count": 1,
   "metadata": {
    "dotnet_interactive": {
     "language": "pwsh"
    },
    "polyglot_notebook": {
     "kernelName": "pwsh"
    }
   },
   "outputs": [
    {
     "name": "stdout",
     "output_type": "stream",
     "text": [
      "PowerShellAI is already installed\r\n"
     ]
    }
   ],
   "source": [
    "if(Get-Module -list PowerShellAI) {\n",
    "    \"PowerShellAI is already installed\"\n",
    "} \n",
    "else {\n",
    "    Install-Module -Name PowerShellAI -Scope AllUsers -Force\n",
    "}"
   ]
  },
  {
   "attachments": {},
   "cell_type": "markdown",
   "metadata": {},
   "source": [
    "## Define Prompt"
   ]
  },
  {
   "cell_type": "code",
   "execution_count": 1,
   "metadata": {
    "dotnet_interactive": {
     "language": "pwsh"
    },
    "polyglot_notebook": {
     "kernelName": "pwsh"
    }
   },
   "outputs": [],
   "source": [
    "$prompt = @'\n",
    "Extract the name and mailing address from this email:\n",
    "\n",
    "Dear Kelly,\n",
    "\n",
    "It was great to talk to you at the seminar. I thought Jane's talk was quite good.\n",
    "\n",
    "Thank you for the book. Here's my address 2111 Ash Lane, Crestview CA 92002\n",
    "\n",
    "Best,\n",
    "\n",
    "Maya\n",
    "\n",
    "Name: \n",
    "'@"
   ]
  },
  {
   "attachments": {},
   "cell_type": "markdown",
   "metadata": {},
   "source": [
    "## Ask GPT"
   ]
  },
  {
   "cell_type": "code",
   "execution_count": 2,
   "metadata": {
    "dotnet_interactive": {
     "language": "pwsh"
    },
    "polyglot_notebook": {
     "kernelName": "pwsh"
    }
   },
   "outputs": [
    {
     "name": "stdout",
     "output_type": "stream",
     "text": [
      " Maya\r\n",
      "Mailing Address: 2111 Ash Lane, Crestview CA 92002\r\n"
     ]
    }
   ],
   "source": [
    "gpt $prompt -max_tokens 512"
   ]
  }
 ],
 "metadata": {
  "kernelspec": {
   "display_name": ".NET (PowerShell)",
   "language": "PowerShell",
   "name": ".net-pwsh"
  },
  "language_info": {
   "name": "polyglot-notebook"
  },
  "polyglot_notebook": {
   "kernelInfo": {
    "defaultKernelName": "pwsh",
    "items": [
     {
      "aliases": [],
      "languageName": "pwsh",
      "name": "pwsh"
     }
    ]
   }
  }
 },
 "nbformat": 4,
 "nbformat_minor": 2
}
