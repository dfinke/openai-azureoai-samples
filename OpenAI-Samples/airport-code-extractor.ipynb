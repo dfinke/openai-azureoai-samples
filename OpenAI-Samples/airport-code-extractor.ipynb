{
 "cells": [
  {
   "attachments": {},
   "cell_type": "markdown",
   "metadata": {},
   "source": [
    "# Airport code extractor\n",
    "\n",
    "A simple prompt for extracting airport codes from text.\n",
    "\n",
    "## Settings\n",
    "\n",
    "| Setting | Value |\n",
    "| --- | --- |\n",
    "| Model | text-davinci-003 |\n",
    "| Max tokens | 256 |\n",
    "| Temperature | 0 | \n",
    "| Top p | 1 | \n",
    "| Frequency penalty | 0.0 |\n",
    "| Presence penalty | 0.0 |\n",
    "| Stop sequence | |\n",
    "\n",
    "## Prompt\n",
    "\n",
    "```text\n",
    "Extract the airport codes from this text:\n",
    "\n",
    "Text: \"I want to fly from Los Angeles to Miami.\"\n",
    "Airport codes: LAX, MIA\n",
    "\n",
    "Text: \"I want to fly from Orlando to Boston\"\n",
    "Airport codes:\n",
    "```"
   ]
  },
  {
   "attachments": {},
   "cell_type": "markdown",
   "metadata": {},
   "source": [
    "## Install PowerShellAI"
   ]
  },
  {
   "cell_type": "code",
   "execution_count": 1,
   "metadata": {
    "dotnet_interactive": {
     "language": "pwsh"
    },
    "polyglot_notebook": {
     "kernelName": "pwsh"
    }
   },
   "outputs": [
    {
     "data": {
      "text/plain": []
     },
     "metadata": {},
     "output_type": "display_data"
    }
   ],
   "source": [
    "if(Get-Module -list PowerShellAI) {\n",
    "    \"PowerShellAI is already installed\"\n",
    "} \n",
    "else {\n",
    "    Install-Module -Name PowerShellAI -Scope AllUsers -Force\n",
    "}"
   ]
  },
  {
   "attachments": {},
   "cell_type": "markdown",
   "metadata": {},
   "source": [
    "## Set OpenAI Key\n",
    "\n",
    " Get yours here: https://platform.openai.com/account/api-keys"
   ]
  },
  {
   "cell_type": "code",
   "execution_count": 1,
   "metadata": {
    "dotnet_interactive": {
     "language": "pwsh"
    },
    "polyglot_notebook": {
     "kernelName": "pwsh"
    }
   },
   "outputs": [
    {
     "name": "stdout",
     "output_type": "stream",
     "text": [
      "OpenAIKey is already set\r\n"
     ]
    }
   ],
   "source": [
    "if(!$env:OpenAIKey) {\n",
    "    $env:OpenAIKey='sk-xxxxxxxxxxxxxxxxxxxxxxxxxxxxxxxxxxxxxxxxxxxxxxxx'\n",
    "}\n",
    "else {\n",
    "    \"OpenAIKey is already set\"\n",
    "}"
   ]
  },
  {
   "attachments": {},
   "cell_type": "markdown",
   "metadata": {},
   "source": [
    "## Define prompt"
   ]
  },
  {
   "cell_type": "code",
   "execution_count": 8,
   "metadata": {
    "dotnet_interactive": {
     "language": "pwsh"
    },
    "polyglot_notebook": {
     "kernelName": "pwsh"
    }
   },
   "outputs": [],
   "source": [
    "$prompt = @\"\n",
    "Extract the airport codes from this text:\n",
    "\n",
    "Text: \"I want to fly from Los Angeles to Miami.\"\n",
    "Airport codes: LAX, MIA\n",
    "\n",
    "Text: \"I want to fly from Orlando to Boston\"\n",
    "Airport codes:\n",
    "\"@"
   ]
  },
  {
   "attachments": {},
   "cell_type": "markdown",
   "metadata": {},
   "source": [
    "## Generate completions"
   ]
  },
  {
   "cell_type": "code",
   "execution_count": 10,
   "metadata": {
    "dotnet_interactive": {
     "language": "pwsh"
    },
    "polyglot_notebook": {
     "kernelName": "pwsh"
    }
   },
   "outputs": [
    {
     "name": "stdout",
     "output_type": "stream",
     "text": [
      "\u001b[31;1mException: \u001b[0m/usr/local/share/powershell/Modules/PowerShellAI/0.6.2/Public/Invoke-OpenAIAPI.ps1:39\u001b[0m\n",
      "\u001b[31;1m\u001b[0m\u001b[36;1mLine |\u001b[0m\n",
      "\u001b[31;1m\u001b[0m\u001b[36;1m\u001b[36;1m  39 | \u001b[0m             \u001b[36;1mthrow 'Please set your OpenAI API key using Set-OpenAIKey\u001b[0m …\u001b[0m\n",
      "\u001b[31;1m\u001b[0m\u001b[36;1m\u001b[36;1m\u001b[0m\u001b[36;1m\u001b[0m\u001b[36;1m     | \u001b[31;1m             ~~~~~~~~~~~~~~~~~~~~~~~~~~~~~~~~~~~~~~~~~~~~~~~~~~~~~~~~~\u001b[0m\n",
      "\u001b[31;1m\u001b[0m\u001b[36;1m\u001b[36;1m\u001b[0m\u001b[36;1m\u001b[0m\u001b[36;1m\u001b[31;1m\u001b[31;1m\u001b[36;1m     | \u001b[31;1mPlease set your OpenAI API key using Set-OpenAIKey or by configuring the $env:OpenAIKey\u001b[0m\n",
      "\u001b[31;1m\u001b[0m\u001b[36;1m\u001b[36;1m\u001b[0m\u001b[36;1m\u001b[0m\u001b[36;1m\u001b[31;1m\u001b[31;1m\u001b[36;1m\u001b[31;1m\u001b[36;1m     | \u001b[31;1menvironment variable (https://platform.openai.com/account/api-keys)\u001b[0m\n"
     ]
    }
   ],
   "source": [
    "gpt $prompt # Get-GPT3Completion"
   ]
  }
 ],
 "metadata": {
  "kernelspec": {
   "display_name": ".NET (PowerShell)",
   "language": "PowerShell",
   "name": ".net-pwsh"
  },
  "language_info": {
   "name": "polyglot-notebook"
  },
  "polyglot_notebook": {
   "kernelInfo": {
    "defaultKernelName": "pwsh",
    "items": [
     {
      "aliases": [],
      "languageName": "pwsh",
      "name": "pwsh"
     }
    ]
   }
  }
 },
 "nbformat": 4,
 "nbformat_minor": 2
}
